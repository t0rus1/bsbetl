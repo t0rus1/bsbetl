{
 "metadata": {
  "language_info": {
   "codemirror_mode": {
    "name": "ipython",
    "version": 3
   },
   "file_extension": ".py",
   "mimetype": "text/x-python",
   "name": "python",
   "nbconvert_exporter": "python",
   "pygments_lexer": "ipython3",
   "version": "3.8.5-final"
  },
  "orig_nbformat": 2,
  "kernelspec": {
   "name": "python3",
   "display_name": "Python 3",
   "language": "python"
  }
 },
 "nbformat": 4,
 "nbformat_minor": 2,
 "cells": [
  {
   "cell_type": "code",
   "execution_count": 2,
   "metadata": {},
   "outputs": [
    {
     "output_type": "stream",
     "name": "stdout",
     "text": [
      "Con_a delivered 2 rows:\n                  Con_a\nA14Y6H.ETR  1746.371134\n906866.ETR  2711.029268\nCon_b1 DAP range restrict 0 rows:\nCon_b1 delivered 0 rows:\nEmpty DataFrame\nColumns: [Date, ShareName, HBF, DHP, DAP, DHPlast3hi, DHPlast20hi, DaysDHPlast3hi, DaysDHPlast20hi, DaysDHPlast3high3perc, DAPGrAvSh, DAPGrAvMi, DAPGrAvLo, DAPGrDiSl, DAPGrDiF, Lazy, DLOCP]\nIndex: []\nCon_b5 DAP range restrict 10 rows:\nCon_b5 delivered 10 rows:\nresults so far:\n                  Con_a  Con_b1    Con_b5\nA14Y6H.ETR  1746.371134     NaN  1.012851\n906866.ETR  2711.029268     NaN  1.009737\n"
     ]
    }
   ],
   "source": [
    "import pandas as pd\n",
    "from numpy.core.numeric import NaN\n",
    "from bsbetl import g\n",
    "from bsbetl.ov_calcs import ov_columns\n",
    "from bsbetl.ov_calcs.conditions import (Con_a,Con_b1,Con_b5)\n",
    "\n",
    "#columns=ov_columns\n",
    "stage=2\n",
    "data_store = pd.HDFStore(g.OVERVIEW_STORE_FQ.format(stage))\n",
    "# load full Ov\n",
    "df = data_store[g.HDFSTORE_OV_KEY.format(stage)]\n",
    "\n",
    "df_res = pd.DataFrame()\n",
    "\n",
    "# Condition a\n",
    "# apply\n",
    "df_con = df[df['DHPlast3hi'] > Con_a['C1DHPlast3hi']]\n",
    "print(f'Con_a delivered {df_con.shape[0]} rows:')\n",
    "#print(df_con.head(15))\n",
    "# gather result\n",
    "df_res['Con_a'] = df_con['DHPlast3hi']\n",
    "print(df_res.head(15))\n",
    "\n",
    "# Condition b1\n",
    "dap_from = Con_b1['DAP_from']\n",
    "dap_to = Con_b1['DAP_to']\n",
    "e = Con_b1['exponent']\n",
    "# dap range restrict\n",
    "df_dap = df[(df['DAP'] >= dap_from) & (df['DAP'] <= dap_to)]\n",
    "print(f'Con_b1 DAP range restrict {df_dap.shape[0]} rows:')\n",
    "#print(df_dap.head(15))\n",
    "# apply condition\n",
    "df_con = df_dap[(df_dap['DHP']/df_dap['DLOCP'])**e > Con_b1['CDH/LOCP']]\n",
    "print(f'Con_b1 delivered {df_con.shape[0]} rows:')\n",
    "print(df_con.head(15))\n",
    "df_con['b1'] = (df_con['DHP']/df_con['DLOCP'])**e\n",
    "#df_res['Con_a'] = NaN\n",
    "df_res['Con_b1'] = df_con['b1']\n",
    "\n",
    "\n",
    "# Condition b5\n",
    "dap_from = Con_b5['DAP_from']\n",
    "dap_to = Con_b5['DAP_to']\n",
    "e = Con_b5['exponent']\n",
    "# dap range restrict\n",
    "#print(df.head(15))\n",
    "df_dap = df[df['DAP'] >= dap_from] # & (df['DAP'] <= dap_to)]\n",
    "print(f'Con_b5 DAP range restrict {df_dap.shape[0]} rows:')\n",
    "#print(df_dap.head(15))\n",
    "# apply condition\n",
    "df_con = df_dap[(df_dap['DHP']/df_dap['DLOCP'])**e > Con_b5['CDH/LOCP']]\n",
    "print(f'Con_b5 delivered {df_con.shape[0]} rows:')\n",
    "#print(df_con.head(15))\n",
    "df_con['b5'] = (df_con['DHP']/df_con['DLOCP'])**e\n",
    "#df_res['Con_a'] = NaN\n",
    "df_res['Con_b5'] = df_con['b5']\n",
    "\n",
    "\n",
    "\n",
    "\n",
    "print('results so far:')\n",
    "print(df_res.head(15))\n",
    "\n",
    "\n",
    "\n",
    "\n"
   ]
  },
  {
   "cell_type": "code",
   "execution_count": null,
   "metadata": {},
   "outputs": [],
   "source": []
  }
 ]
}