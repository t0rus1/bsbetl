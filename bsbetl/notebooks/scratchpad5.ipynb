{
 "metadata": {
  "language_info": {
   "codemirror_mode": {
    "name": "ipython",
    "version": 3
   },
   "file_extension": ".py",
   "mimetype": "text/x-python",
   "name": "python",
   "nbconvert_exporter": "python",
   "pygments_lexer": "ipython3",
   "version": "3.8.5"
  },
  "orig_nbformat": 2,
  "kernelspec": {
   "name": "python3",
   "display_name": "Python 3.8.5 32-bit ('venv': venv)"
  },
  "metadata": {
   "interpreter": {
    "hash": "8d96d0c19a8d9e97d86a45657989fc2bea3cd5f320f1262eb2458e6407e3afc8"
   }
  },
  "interpreter": {
   "hash": "8d96d0c19a8d9e97d86a45657989fc2bea3cd5f320f1262eb2458e6407e3afc8"
  }
 },
 "nbformat": 4,
 "nbformat_minor": 2,
 "cells": [
  {
   "cell_type": "code",
   "execution_count": 2,
   "source": [
    "import pandas as pd\r\n",
    "from numpy.core.numeric import NaN\r\n",
    "from bsbetl import g\r\n",
    "from bsbetl.ov_calcs import ov_columns\r\n",
    "import math\r\n",
    "\r\n",
    "csv_file = '\\\\BsbEtl\\\\OUT\\\\By_Share\\\\A0Hl8N.ETR\\\\A0Hl8N.ETR.CSV' \r\n",
    "df = pd.read_csv(csv_file, index_col='date_time',\r\n",
    "                            parse_dates=True, infer_datetime_format=True)\r\n",
    "\r\n",
    "# vol_avg = df.iloc[:2]['volume'].mean()\r\n",
    "# df.head()\r\n",
    "\r\n",
    "df = df.iloc[:5].copy()\r\n",
    "#print(df.head())\r\n",
    "\r\n",
    "df['p_minus_v'] = df['price']-df['volume']\r\n",
    "df['p_minus_v'][df['p_minus_v']<0] = 0\r\n",
    "print(df.head())\r\n",
    "\r\n",
    "#print(df.iloc[-2,1])\r\n",
    "\r\n",
    "# max_vol_cum=df['vol_cum'].max(axis=0)\r\n",
    "# print(max_vol_cum)"
   ],
   "outputs": [
    {
     "output_type": "stream",
     "name": "stdout",
     "text": [
      "                      price  volume  vol_cum  price_minus_vol\n",
      "date_time                                                    \n",
      "2017-01-02 12:44:54  18.460     413      413         -394.540\n",
      "2017-01-02 13:17:24  18.475      33      446          -14.525\n",
      "2017-01-02 15:49:13  18.470      10      456            8.470\n",
      "2017-01-02 16:24:53  18.480     128      584         -109.520\n",
      "2017-01-02 16:30:04  18.480       2      586           16.480\n"
     ]
    }
   ],
   "metadata": {}
  }
 ]
}