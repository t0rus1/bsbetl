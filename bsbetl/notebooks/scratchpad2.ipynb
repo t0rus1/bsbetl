{
 "metadata": {
  "language_info": {
   "codemirror_mode": {
    "name": "ipython",
    "version": 3
   },
   "file_extension": ".py",
   "mimetype": "text/x-python",
   "name": "python",
   "nbconvert_exporter": "python",
   "pygments_lexer": "ipython3",
   "version": "3.8.5-final"
  },
  "orig_nbformat": 2,
  "kernelspec": {
   "name": "Python 3.8.5 32-bit ('venv')",
   "display_name": "Python 3.8.5 32-bit ('venv')",
   "metadata": {
    "interpreter": {
     "hash": "8d96d0c19a8d9e97d86a45657989fc2bea3cd5f320f1262eb2458e6407e3afc8"
    }
   }
  }
 },
 "nbformat": 4,
 "nbformat_minor": 2,
 "cells": [
  {
   "cell_type": "code",
   "execution_count": 1,
   "metadata": {},
   "outputs": [
    {
     "output_type": "stream",
     "name": "stdout",
     "text": [
      "Given Dataframe :\n         Name  Age    Stream  Percentage\n0      Ankit   22      Math          90\n1    Swapnil   20  Commerce          90\n2  Aishwarya   21   Science          96\n3   Priyanka   19      Math          75\n4   Shivangi   18      Math          70\n5    Shaurya   22   Science          80\n"
     ]
    }
   ],
   "source": [
    "import pandas as pd\n",
    "\n",
    "record = {  \n",
    "  \n",
    " 'Name' : ['Ankit', 'Swapnil', 'Aishwarya',  \n",
    "          'Priyanka', 'Shivangi', 'Shaurya' ], \n",
    "    \n",
    " 'Age' : [22, 20, 21, 19, 18, 22],  \n",
    "    \n",
    " 'Stream' : ['Math', 'Commerce', 'Science',  \n",
    "            'Math', 'Math', 'Science'],  \n",
    "    \n",
    " 'Percentage' : [90, 90, 96, 75, 70, 80] }  \n",
    "    \n",
    "# create a dataframe  \n",
    "dataframe = pd.DataFrame(record, \n",
    "                         columns = ['Name', 'Age',  \n",
    "                                    'Stream', 'Percentage'])  \n",
    "# show the Dataframe \n",
    "print(\"Given Dataframe :\\n\", dataframe)\n",
    "\n",
    "\n"
   ]
  },
  {
   "cell_type": "code",
   "execution_count": null,
   "metadata": {},
   "outputs": [],
   "source": []
  }
 ]
}