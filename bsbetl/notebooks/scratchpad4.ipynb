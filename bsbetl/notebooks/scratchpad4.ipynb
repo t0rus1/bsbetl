{
 "metadata": {
  "language_info": {
   "codemirror_mode": {
    "name": "ipython",
    "version": 3
   },
   "file_extension": ".py",
   "mimetype": "text/x-python",
   "name": "python",
   "nbconvert_exporter": "python",
   "pygments_lexer": "ipython3",
   "version": "3.8.5-final"
  },
  "orig_nbformat": 2,
  "kernelspec": {
   "name": "python385jvsc74a57bd08d96d0c19a8d9e97d86a45657989fc2bea3cd5f320f1262eb2458e6407e3afc8",
   "display_name": "Python 3.8.5 32-bit ('venv')"
  }
 },
 "nbformat": 4,
 "nbformat_minor": 2,
 "cells": [
  {
   "cell_type": "code",
   "execution_count": 3,
   "metadata": {
    "tags": []
   },
   "outputs": [
    {
     "output_type": "stream",
     "name": "stdout",
     "text": [
      "130.0\n"
     ]
    }
   ],
   "source": [
    "import pandas as pd\n",
    "from numpy.core.numeric import NaN\n",
    "from bsbetl import g\n",
    "from bsbetl.ov_calcs import ov_columns\n",
    "\n",
    "csv_file = '\\\\BsbEtl\\\\OUT\\\\By_Share\\\\A0Hl8N.ETR\\\\A0Hl8N.ETR.CSV' \n",
    "df_trades = pd.read_csv(csv_file, index_col='date_time',\n",
    "                            parse_dates=True, infer_datetime_format=True)\n",
    "\n",
    "#print(df_trades.head(2))\n",
    "df_early = df_trades.between_time('00:00:00','08:59:59')\n",
    "df_early_daily = df_early.resample('D', label='left', origin='start_day').agg({'price': 'mean', 'volume': 'sum'}).pad()\n",
    "\n",
    "df_late = df_trades.between_time('17:36:00','23:59:59')\n",
    "df_late_daily = df_late.resample('D', label='left', origin='start_day').agg({'price': 'mean', 'volume': 'sum'}).pad()\n",
    "\n",
    "\n",
    "df_trades = df_trades.between_time('09:00:00', '17:35')\n",
    "\n",
    "df_nz = df_trades[df_trades['price'] > 0]\n",
    "#print(df_nz['price'].head(2))\n",
    "#print(df_nz.iat[0,0])\n",
    "#print(df_nz.iat[0,0])\n",
    "row = df_nz.iloc[0]\n",
    "print(row['volume'])\n",
    "\n",
    "# and append the consolidated early / late trades to \n",
    "# the opening / closing minutes of each day\n",
    "# for idx,row in df_early_daily.iterrows():\n",
    "#     row.name = idx + pd.offsets.Hour(9)\n",
    "#     #print(row)\n",
    "#     df_trades = df_trades.append(row,ignore_index=False)\n",
    "#     #print(df_trades.tail(5))\n",
    "\n",
    "# for idx,row in df_late_daily.iterrows():\n",
    "#     row.name = idx + pd.offsets.Minute(17*60+35)\n",
    "    #print(row.name)\n",
    "    #df_trades = df_trades.append(row,ignore_index=False)\n",
    "    #print(df_trades.tail(2))\n",
    "\n"
   ]
  },
  {
   "cell_type": "code",
   "execution_count": null,
   "metadata": {},
   "outputs": [],
   "source": []
  }
 ]
}